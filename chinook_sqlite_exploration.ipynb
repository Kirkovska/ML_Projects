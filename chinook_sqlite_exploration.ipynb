{
 "cells": [
  {
   "cell_type": "markdown",
   "id": "9091d1b9",
   "metadata": {},
   "source": [
    "### 📥 Download the Chinook Database\n",
    "You can download the Chinook SQLite database from the following link:\n",
    "\n",
    "[Download Chinook_Sqlite.sqlite](https://github.com/lerocha/chinook-database/raw/master/ChinookDatabase/DataSources/Chinook_Sqlite.sqlite)\n",
    "\n",
    "After downloading, rename the file to `chinook.db` and place it in the same directory as this notebook."
   ]
  },
  {
   "cell_type": "markdown",
   "id": "f648b786",
   "metadata": {},
   "source": [
    "# Chinook SQLite Database Exploration\n",
    "This notebook explores the Chinook SQLite database using `pandas` and `sqlite3`. We read tables, perform basic joins, and analyze the number of albums per artist."
   ]
  },
  {
   "cell_type": "code",
   "execution_count": null,
   "id": "51baf761",
   "metadata": {},
   "outputs": [],
   "source": [
    "import pandas as pd\n",
    "import sqlite3 as sq3\n",
    "import pandas.io.sql as pds"
   ]
  },
  {
   "cell_type": "markdown",
   "id": "93a3f914",
   "metadata": {},
   "source": [
    "### Connect to the SQLite Database"
   ]
  },
  {
   "cell_type": "code",
   "execution_count": null,
   "id": "99a272f5",
   "metadata": {},
   "outputs": [],
   "source": [
    "path = 'chinook.db'\n",
    "con = sq3.Connection(path)\n",
    "con"
   ]
  },
  {
   "cell_type": "markdown",
   "id": "6d462f97",
   "metadata": {},
   "source": [
    "### List All Tables in the Database"
   ]
  },
  {
   "cell_type": "code",
   "execution_count": null,
   "id": "6474dcd3",
   "metadata": {},
   "outputs": [],
   "source": [
    "query = \"\"\"\n",
    "SELECT name FROM sqlite_master WHERE type='table';\n",
    "\"\"\"\n",
    "tables = pds.read_sql(query, con)\n",
    "print(tables)"
   ]
  },
  {
   "cell_type": "markdown",
   "id": "6ba09e89",
   "metadata": {},
   "source": [
    "### Read `Album` Table"
   ]
  },
  {
   "cell_type": "code",
   "execution_count": null,
   "id": "42471826",
   "metadata": {},
   "outputs": [],
   "source": [
    "query = \"\"\"\n",
    "SELECT *\n",
    "FROM Album\n",
    "\"\"\"\n",
    "album_df = pds.read_sql(query, con)\n",
    "album_df.head()"
   ]
  },
  {
   "cell_type": "markdown",
   "id": "d16609c8",
   "metadata": {},
   "source": [
    "### Read `Artist` Table"
   ]
  },
  {
   "cell_type": "code",
   "execution_count": null,
   "id": "ce332811",
   "metadata": {},
   "outputs": [],
   "source": [
    "query = \"\"\"\n",
    "SELECT *\n",
    "FROM Artist\n",
    "\"\"\"\n",
    "artist_df = pds.read_sql(query, con)\n",
    "artist_df.head()"
   ]
  },
  {
   "cell_type": "markdown",
   "id": "a4aa4c70",
   "metadata": {},
   "source": [
    "### Join `Album` and `Artist` Tables"
   ]
  },
  {
   "cell_type": "code",
   "execution_count": null,
   "id": "1f6c9c4d",
   "metadata": {},
   "outputs": [],
   "source": [
    "query = \"\"\"\n",
    "SELECT al.AlbumId, al.Title, ar.ArtistId, ar.Name\n",
    "FROM Album AS al\n",
    "INNER JOIN Artist AS ar ON al.ArtistId = ar.ArtistId\n",
    "\"\"\"\n",
    "joined_df = pds.read_sql(query, con)\n",
    "joined_df.head()"
   ]
  },
  {
   "cell_type": "markdown",
   "id": "be26b966",
   "metadata": {},
   "source": [
    "### Count Albums per Artist"
   ]
  },
  {
   "cell_type": "code",
   "execution_count": null,
   "id": "c24b533f",
   "metadata": {},
   "outputs": [],
   "source": [
    "query = \"\"\"\n",
    "SELECT ar.Name, COUNT(DISTINCT al.AlbumId) AS num_albums\n",
    "FROM Album AS al\n",
    "INNER JOIN Artist AS ar ON al.ArtistId = ar.ArtistId\n",
    "GROUP BY ar.Name\n",
    "ORDER BY num_albums DESC\n",
    "\"\"\"\n",
    "album_counts_df = pds.read_sql(query, con)\n",
    "album_counts_df.head()"
   ]
  },
  {
   "cell_type": "markdown",
   "id": "bf338129",
   "metadata": {},
   "source": [
    "### Read Data in Chunks"
   ]
  },
  {
   "cell_type": "code",
   "execution_count": null,
   "id": "e6c16e2b",
   "metadata": {},
   "outputs": [],
   "source": [
    "query = \"\"\"\n",
    "SELECT ar.Name, COUNT(DISTINCT al.AlbumId) AS num_albums\n",
    "FROM Album AS al\n",
    "INNER JOIN Artist AS ar ON al.ArtistId = ar.ArtistId\n",
    "GROUP BY ar.Name\n",
    "\"\"\"\n",
    "\n",
    "observations_generator = pds.read_sql(query, con, chunksize=5)\n",
    "\n",
    "for index, observation in enumerate(observations_generator):\n",
    "    if index < 5:\n",
    "        print(f'Observations index: {index}')\n",
    "        display(observation)"
   ]
  }
 ],
 "metadata": {},
 "nbformat": 4,
 "nbformat_minor": 5
}
